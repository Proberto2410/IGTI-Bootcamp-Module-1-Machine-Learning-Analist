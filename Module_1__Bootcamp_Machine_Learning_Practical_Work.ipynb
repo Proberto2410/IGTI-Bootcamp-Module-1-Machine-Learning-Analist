{
  "nbformat": 4,
  "nbformat_minor": 0,
  "metadata": {
    "colab": {
      "name": "Module_1_ Bootcamp Machine Learning Practical Work.ipynb",
      "provenance": [],
      "collapsed_sections": [],
      "include_colab_link": true
    },
    "kernelspec": {
      "name": "python3",
      "display_name": "Python 3"
    }
  },
  "cells": [
    {
      "cell_type": "markdown",
      "metadata": {
        "id": "view-in-github",
        "colab_type": "text"
      },
      "source": [
        "<a href=\"https://colab.research.google.com/github/Proberto2410/IGTI-Bootcamp-Module-1-Machine-Learning-Analist/blob/master/Module_1__Bootcamp_Machine_Learning_Practical_Work.ipynb\" target=\"_parent\"><img src=\"https://colab.research.google.com/assets/colab-badge.svg\" alt=\"Open In Colab\"/></a>"
      ]
    },
    {
      "cell_type": "markdown",
      "metadata": {
        "id": "wnzdc_uoK39b",
        "colab_type": "text"
      },
      "source": [
        "This notebook is used for the development of the Practical Work of the \n",
        "discipline Fundamentals of the Machine Learning at IGTI's Bootcamp:\n",
        "1. EDA - Exploratory Data Analysis\n",
        "2. Dataset cleaning\n",
        "3. Identification of Outliers\n",
        "4. Linear Regression Analysis"
      ]
    },
    {
      "cell_type": "code",
      "metadata": {
        "id": "XkAa6kElhAz9",
        "colab_type": "code",
        "colab": {
          "base_uri": "https://localhost:8080/",
          "height": 52
        },
        "outputId": "992c9f82-b0ae-4a12-bc13-6347cb2224b8"
      },
      "source": [
        "#import the libraries\n",
        "import pandas as pd # library used to work with dataframes\n",
        "import numpy as np # library used in the treatment of matrices and vectors\n",
        "import matplotlib.pyplot as plt # library used to plot graphs\n",
        "import seaborn as sn # library used to plot graphics in a more \"elegant\" format"
      ],
      "execution_count": 1,
      "outputs": [
        {
          "output_type": "stream",
          "text": [
            "/usr/local/lib/python3.6/dist-packages/statsmodels/tools/_testing.py:19: FutureWarning: pandas.util.testing is deprecated. Use the functions in the public API at pandas.testing instead.\n",
            "  import pandas.util.testing as tm\n"
          ],
          "name": "stderr"
        }
      ]
    },
    {
      "cell_type": "code",
      "metadata": {
        "id": "F5QoWSBvlFph",
        "colab_type": "code",
        "colab": {
          "resources": {
            "http://localhost:8080/nbextensions/google.colab/files.js": {
              "data": "Ly8gQ29weXJpZ2h0IDIwMTcgR29vZ2xlIExMQwovLwovLyBMaWNlbnNlZCB1bmRlciB0aGUgQXBhY2hlIExpY2Vuc2UsIFZlcnNpb24gMi4wICh0aGUgIkxpY2Vuc2UiKTsKLy8geW91IG1heSBub3QgdXNlIHRoaXMgZmlsZSBleGNlcHQgaW4gY29tcGxpYW5jZSB3aXRoIHRoZSBMaWNlbnNlLgovLyBZb3UgbWF5IG9idGFpbiBhIGNvcHkgb2YgdGhlIExpY2Vuc2UgYXQKLy8KLy8gICAgICBodHRwOi8vd3d3LmFwYWNoZS5vcmcvbGljZW5zZXMvTElDRU5TRS0yLjAKLy8KLy8gVW5sZXNzIHJlcXVpcmVkIGJ5IGFwcGxpY2FibGUgbGF3IG9yIGFncmVlZCB0byBpbiB3cml0aW5nLCBzb2Z0d2FyZQovLyBkaXN0cmlidXRlZCB1bmRlciB0aGUgTGljZW5zZSBpcyBkaXN0cmlidXRlZCBvbiBhbiAiQVMgSVMiIEJBU0lTLAovLyBXSVRIT1VUIFdBUlJBTlRJRVMgT1IgQ09ORElUSU9OUyBPRiBBTlkgS0lORCwgZWl0aGVyIGV4cHJlc3Mgb3IgaW1wbGllZC4KLy8gU2VlIHRoZSBMaWNlbnNlIGZvciB0aGUgc3BlY2lmaWMgbGFuZ3VhZ2UgZ292ZXJuaW5nIHBlcm1pc3Npb25zIGFuZAovLyBsaW1pdGF0aW9ucyB1bmRlciB0aGUgTGljZW5zZS4KCi8qKgogKiBAZmlsZW92ZXJ2aWV3IEhlbHBlcnMgZm9yIGdvb2dsZS5jb2xhYiBQeXRob24gbW9kdWxlLgogKi8KKGZ1bmN0aW9uKHNjb3BlKSB7CmZ1bmN0aW9uIHNwYW4odGV4dCwgc3R5bGVBdHRyaWJ1dGVzID0ge30pIHsKICBjb25zdCBlbGVtZW50ID0gZG9jdW1lbnQuY3JlYXRlRWxlbWVudCgnc3BhbicpOwogIGVsZW1lbnQudGV4dENvbnRlbnQgPSB0ZXh0OwogIGZvciAoY29uc3Qga2V5IG9mIE9iamVjdC5rZXlzKHN0eWxlQXR0cmlidXRlcykpIHsKICAgIGVsZW1lbnQuc3R5bGVba2V5XSA9IHN0eWxlQXR0cmlidXRlc1trZXldOwogIH0KICByZXR1cm4gZWxlbWVudDsKfQoKLy8gTWF4IG51bWJlciBvZiBieXRlcyB3aGljaCB3aWxsIGJlIHVwbG9hZGVkIGF0IGEgdGltZS4KY29uc3QgTUFYX1BBWUxPQURfU0laRSA9IDEwMCAqIDEwMjQ7CgpmdW5jdGlvbiBfdXBsb2FkRmlsZXMoaW5wdXRJZCwgb3V0cHV0SWQpIHsKICBjb25zdCBzdGVwcyA9IHVwbG9hZEZpbGVzU3RlcChpbnB1dElkLCBvdXRwdXRJZCk7CiAgY29uc3Qgb3V0cHV0RWxlbWVudCA9IGRvY3VtZW50LmdldEVsZW1lbnRCeUlkKG91dHB1dElkKTsKICAvLyBDYWNoZSBzdGVwcyBvbiB0aGUgb3V0cHV0RWxlbWVudCB0byBtYWtlIGl0IGF2YWlsYWJsZSBmb3IgdGhlIG5leHQgY2FsbAogIC8vIHRvIHVwbG9hZEZpbGVzQ29udGludWUgZnJvbSBQeXRob24uCiAgb3V0cHV0RWxlbWVudC5zdGVwcyA9IHN0ZXBzOwoKICByZXR1cm4gX3VwbG9hZEZpbGVzQ29udGludWUob3V0cHV0SWQpOwp9CgovLyBUaGlzIGlzIHJvdWdobHkgYW4gYXN5bmMgZ2VuZXJhdG9yIChub3Qgc3VwcG9ydGVkIGluIHRoZSBicm93c2VyIHlldCksCi8vIHdoZXJlIHRoZXJlIGFyZSBtdWx0aXBsZSBhc3luY2hyb25vdXMgc3RlcHMgYW5kIHRoZSBQeXRob24gc2lkZSBpcyBnb2luZwovLyB0byBwb2xsIGZvciBjb21wbGV0aW9uIG9mIGVhY2ggc3RlcC4KLy8gVGhpcyB1c2VzIGEgUHJvbWlzZSB0byBibG9jayB0aGUgcHl0aG9uIHNpZGUgb24gY29tcGxldGlvbiBvZiBlYWNoIHN0ZXAsCi8vIHRoZW4gcGFzc2VzIHRoZSByZXN1bHQgb2YgdGhlIHByZXZpb3VzIHN0ZXAgYXMgdGhlIGlucHV0IHRvIHRoZSBuZXh0IHN0ZXAuCmZ1bmN0aW9uIF91cGxvYWRGaWxlc0NvbnRpbnVlKG91dHB1dElkKSB7CiAgY29uc3Qgb3V0cHV0RWxlbWVudCA9IGRvY3VtZW50LmdldEVsZW1lbnRCeUlkKG91dHB1dElkKTsKICBjb25zdCBzdGVwcyA9IG91dHB1dEVsZW1lbnQuc3RlcHM7CgogIGNvbnN0IG5leHQgPSBzdGVwcy5uZXh0KG91dHB1dEVsZW1lbnQubGFzdFByb21pc2VWYWx1ZSk7CiAgcmV0dXJuIFByb21pc2UucmVzb2x2ZShuZXh0LnZhbHVlLnByb21pc2UpLnRoZW4oKHZhbHVlKSA9PiB7CiAgICAvLyBDYWNoZSB0aGUgbGFzdCBwcm9taXNlIHZhbHVlIHRvIG1ha2UgaXQgYXZhaWxhYmxlIHRvIHRoZSBuZXh0CiAgICAvLyBzdGVwIG9mIHRoZSBnZW5lcmF0b3IuCiAgICBvdXRwdXRFbGVtZW50Lmxhc3RQcm9taXNlVmFsdWUgPSB2YWx1ZTsKICAgIHJldHVybiBuZXh0LnZhbHVlLnJlc3BvbnNlOwogIH0pOwp9CgovKioKICogR2VuZXJhdG9yIGZ1bmN0aW9uIHdoaWNoIGlzIGNhbGxlZCBiZXR3ZWVuIGVhY2ggYXN5bmMgc3RlcCBvZiB0aGUgdXBsb2FkCiAqIHByb2Nlc3MuCiAqIEBwYXJhbSB7c3RyaW5nfSBpbnB1dElkIEVsZW1lbnQgSUQgb2YgdGhlIGlucHV0IGZpbGUgcGlja2VyIGVsZW1lbnQuCiAqIEBwYXJhbSB7c3RyaW5nfSBvdXRwdXRJZCBFbGVtZW50IElEIG9mIHRoZSBvdXRwdXQgZGlzcGxheS4KICogQHJldHVybiB7IUl0ZXJhYmxlPCFPYmplY3Q+fSBJdGVyYWJsZSBvZiBuZXh0IHN0ZXBzLgogKi8KZnVuY3Rpb24qIHVwbG9hZEZpbGVzU3RlcChpbnB1dElkLCBvdXRwdXRJZCkgewogIGNvbnN0IGlucHV0RWxlbWVudCA9IGRvY3VtZW50LmdldEVsZW1lbnRCeUlkKGlucHV0SWQpOwogIGlucHV0RWxlbWVudC5kaXNhYmxlZCA9IGZhbHNlOwoKICBjb25zdCBvdXRwdXRFbGVtZW50ID0gZG9jdW1lbnQuZ2V0RWxlbWVudEJ5SWQob3V0cHV0SWQpOwogIG91dHB1dEVsZW1lbnQuaW5uZXJIVE1MID0gJyc7CgogIGNvbnN0IHBpY2tlZFByb21pc2UgPSBuZXcgUHJvbWlzZSgocmVzb2x2ZSkgPT4gewogICAgaW5wdXRFbGVtZW50LmFkZEV2ZW50TGlzdGVuZXIoJ2NoYW5nZScsIChlKSA9PiB7CiAgICAgIHJlc29sdmUoZS50YXJnZXQuZmlsZXMpOwogICAgfSk7CiAgfSk7CgogIGNvbnN0IGNhbmNlbCA9IGRvY3VtZW50LmNyZWF0ZUVsZW1lbnQoJ2J1dHRvbicpOwogIGlucHV0RWxlbWVudC5wYXJlbnRFbGVtZW50LmFwcGVuZENoaWxkKGNhbmNlbCk7CiAgY2FuY2VsLnRleHRDb250ZW50ID0gJ0NhbmNlbCB1cGxvYWQnOwogIGNvbnN0IGNhbmNlbFByb21pc2UgPSBuZXcgUHJvbWlzZSgocmVzb2x2ZSkgPT4gewogICAgY2FuY2VsLm9uY2xpY2sgPSAoKSA9PiB7CiAgICAgIHJlc29sdmUobnVsbCk7CiAgICB9OwogIH0pOwoKICAvLyBXYWl0IGZvciB0aGUgdXNlciB0byBwaWNrIHRoZSBmaWxlcy4KICBjb25zdCBmaWxlcyA9IHlpZWxkIHsKICAgIHByb21pc2U6IFByb21pc2UucmFjZShbcGlja2VkUHJvbWlzZSwgY2FuY2VsUHJvbWlzZV0pLAogICAgcmVzcG9uc2U6IHsKICAgICAgYWN0aW9uOiAnc3RhcnRpbmcnLAogICAgfQogIH07CgogIGNhbmNlbC5yZW1vdmUoKTsKCiAgLy8gRGlzYWJsZSB0aGUgaW5wdXQgZWxlbWVudCBzaW5jZSBmdXJ0aGVyIHBpY2tzIGFyZSBub3QgYWxsb3dlZC4KICBpbnB1dEVsZW1lbnQuZGlzYWJsZWQgPSB0cnVlOwoKICBpZiAoIWZpbGVzKSB7CiAgICByZXR1cm4gewogICAgICByZXNwb25zZTogewogICAgICAgIGFjdGlvbjogJ2NvbXBsZXRlJywKICAgICAgfQogICAgfTsKICB9CgogIGZvciAoY29uc3QgZmlsZSBvZiBmaWxlcykgewogICAgY29uc3QgbGkgPSBkb2N1bWVudC5jcmVhdGVFbGVtZW50KCdsaScpOwogICAgbGkuYXBwZW5kKHNwYW4oZmlsZS5uYW1lLCB7Zm9udFdlaWdodDogJ2JvbGQnfSkpOwogICAgbGkuYXBwZW5kKHNwYW4oCiAgICAgICAgYCgke2ZpbGUudHlwZSB8fCAnbi9hJ30pIC0gJHtmaWxlLnNpemV9IGJ5dGVzLCBgICsKICAgICAgICBgbGFzdCBtb2RpZmllZDogJHsKICAgICAgICAgICAgZmlsZS5sYXN0TW9kaWZpZWREYXRlID8gZmlsZS5sYXN0TW9kaWZpZWREYXRlLnRvTG9jYWxlRGF0ZVN0cmluZygpIDoKICAgICAgICAgICAgICAgICAgICAgICAgICAgICAgICAgICAgJ24vYSd9IC0gYCkpOwogICAgY29uc3QgcGVyY2VudCA9IHNwYW4oJzAlIGRvbmUnKTsKICAgIGxpLmFwcGVuZENoaWxkKHBlcmNlbnQpOwoKICAgIG91dHB1dEVsZW1lbnQuYXBwZW5kQ2hpbGQobGkpOwoKICAgIGNvbnN0IGZpbGVEYXRhUHJvbWlzZSA9IG5ldyBQcm9taXNlKChyZXNvbHZlKSA9PiB7CiAgICAgIGNvbnN0IHJlYWRlciA9IG5ldyBGaWxlUmVhZGVyKCk7CiAgICAgIHJlYWRlci5vbmxvYWQgPSAoZSkgPT4gewogICAgICAgIHJlc29sdmUoZS50YXJnZXQucmVzdWx0KTsKICAgICAgfTsKICAgICAgcmVhZGVyLnJlYWRBc0FycmF5QnVmZmVyKGZpbGUpOwogICAgfSk7CiAgICAvLyBXYWl0IGZvciB0aGUgZGF0YSB0byBiZSByZWFkeS4KICAgIGxldCBmaWxlRGF0YSA9IHlpZWxkIHsKICAgICAgcHJvbWlzZTogZmlsZURhdGFQcm9taXNlLAogICAgICByZXNwb25zZTogewogICAgICAgIGFjdGlvbjogJ2NvbnRpbnVlJywKICAgICAgfQogICAgfTsKCiAgICAvLyBVc2UgYSBjaHVua2VkIHNlbmRpbmcgdG8gYXZvaWQgbWVzc2FnZSBzaXplIGxpbWl0cy4gU2VlIGIvNjIxMTU2NjAuCiAgICBsZXQgcG9zaXRpb24gPSAwOwogICAgd2hpbGUgKHBvc2l0aW9uIDwgZmlsZURhdGEuYnl0ZUxlbmd0aCkgewogICAgICBjb25zdCBsZW5ndGggPSBNYXRoLm1pbihmaWxlRGF0YS5ieXRlTGVuZ3RoIC0gcG9zaXRpb24sIE1BWF9QQVlMT0FEX1NJWkUpOwogICAgICBjb25zdCBjaHVuayA9IG5ldyBVaW50OEFycmF5KGZpbGVEYXRhLCBwb3NpdGlvbiwgbGVuZ3RoKTsKICAgICAgcG9zaXRpb24gKz0gbGVuZ3RoOwoKICAgICAgY29uc3QgYmFzZTY0ID0gYnRvYShTdHJpbmcuZnJvbUNoYXJDb2RlLmFwcGx5KG51bGwsIGNodW5rKSk7CiAgICAgIHlpZWxkIHsKICAgICAgICByZXNwb25zZTogewogICAgICAgICAgYWN0aW9uOiAnYXBwZW5kJywKICAgICAgICAgIGZpbGU6IGZpbGUubmFtZSwKICAgICAgICAgIGRhdGE6IGJhc2U2NCwKICAgICAgICB9LAogICAgICB9OwogICAgICBwZXJjZW50LnRleHRDb250ZW50ID0KICAgICAgICAgIGAke01hdGgucm91bmQoKHBvc2l0aW9uIC8gZmlsZURhdGEuYnl0ZUxlbmd0aCkgKiAxMDApfSUgZG9uZWA7CiAgICB9CiAgfQoKICAvLyBBbGwgZG9uZS4KICB5aWVsZCB7CiAgICByZXNwb25zZTogewogICAgICBhY3Rpb246ICdjb21wbGV0ZScsCiAgICB9CiAgfTsKfQoKc2NvcGUuZ29vZ2xlID0gc2NvcGUuZ29vZ2xlIHx8IHt9OwpzY29wZS5nb29nbGUuY29sYWIgPSBzY29wZS5nb29nbGUuY29sYWIgfHwge307CnNjb3BlLmdvb2dsZS5jb2xhYi5fZmlsZXMgPSB7CiAgX3VwbG9hZEZpbGVzLAogIF91cGxvYWRGaWxlc0NvbnRpbnVlLAp9Owp9KShzZWxmKTsK",
              "ok": true,
              "headers": [
                [
                  "content-type",
                  "application/javascript"
                ]
              ],
              "status": 200,
              "status_text": ""
            }
          },
          "base_uri": "https://localhost:8080/",
          "height": 73
        },
        "outputId": "853b16f0-d75b-405a-877e-e880662ecbca"
      },
      "source": [
        "from google.colab import files  ## library used to upload data to google colab\n",
        "uploaded = files.upload()"
      ],
      "execution_count": 2,
      "outputs": [
        {
          "output_type": "display_data",
          "data": {
            "text/html": [
              "\n",
              "     <input type=\"file\" id=\"files-87cfd3d6-ddb1-4035-852b-76dc2e1c0b2e\" name=\"files[]\" multiple disabled\n",
              "        style=\"border:none\" />\n",
              "     <output id=\"result-87cfd3d6-ddb1-4035-852b-76dc2e1c0b2e\">\n",
              "      Upload widget is only available when the cell has been executed in the\n",
              "      current browser session. Please rerun this cell to enable.\n",
              "      </output>\n",
              "      <script src=\"/nbextensions/google.colab/files.js\"></script> "
            ],
            "text/plain": [
              "<IPython.core.display.HTML object>"
            ]
          },
          "metadata": {
            "tags": []
          }
        },
        {
          "output_type": "stream",
          "text": [
            "Saving data.csv to data.csv\n"
          ],
          "name": "stdout"
        }
      ]
    },
    {
      "cell_type": "code",
      "metadata": {
        "id": "c3aot9E-li4L",
        "colab_type": "code",
        "colab": {}
      },
      "source": [
        "#dataframe loading\n",
        "nome_do_arquivo=\"data.csv\"\n",
        "dataframe_envio_portos= pd.read_csv(nome_do_arquivo)"
      ],
      "execution_count": 3,
      "outputs": []
    },
    {
      "cell_type": "code",
      "metadata": {
        "id": "bKF37jCWl5SG",
        "colab_type": "code",
        "colab": {
          "base_uri": "https://localhost:8080/",
          "height": 197
        },
        "outputId": "58122b91-e3f9-48f9-f3b0-d58e4a8ef567"
      },
      "source": [
        "## showing the first 5 rows of the dataframe\n",
        "dataframe_envio_portos.head()"
      ],
      "execution_count": 4,
      "outputs": [
        {
          "output_type": "execute_result",
          "data": {
            "text/html": [
              "<div>\n",
              "<style scoped>\n",
              "    .dataframe tbody tr th:only-of-type {\n",
              "        vertical-align: middle;\n",
              "    }\n",
              "\n",
              "    .dataframe tbody tr th {\n",
              "        vertical-align: top;\n",
              "    }\n",
              "\n",
              "    .dataframe thead th {\n",
              "        text-align: right;\n",
              "    }\n",
              "</style>\n",
              "<table border=\"1\" class=\"dataframe\">\n",
              "  <thead>\n",
              "    <tr style=\"text-align: right;\">\n",
              "      <th></th>\n",
              "      <th>valid_import</th>\n",
              "      <th>item</th>\n",
              "      <th>importer_id</th>\n",
              "      <th>exporter_id</th>\n",
              "      <th>country_of_origin</th>\n",
              "      <th>declared_quantity</th>\n",
              "      <th>declared_cost</th>\n",
              "      <th>mode_of_transport</th>\n",
              "      <th>route</th>\n",
              "      <th>date_of_departure</th>\n",
              "      <th>date_of_arrival</th>\n",
              "      <th>declared_weight</th>\n",
              "      <th>actual_weight</th>\n",
              "      <th>days_in_transit</th>\n",
              "    </tr>\n",
              "  </thead>\n",
              "  <tbody>\n",
              "    <tr>\n",
              "      <th>0</th>\n",
              "      <td>True</td>\n",
              "      <td>cigar</td>\n",
              "      <td>111</td>\n",
              "      <td>222</td>\n",
              "      <td>India</td>\n",
              "      <td>129</td>\n",
              "      <td>3784.402551</td>\n",
              "      <td>sea</td>\n",
              "      <td>asia</td>\n",
              "      <td>04/25/2019</td>\n",
              "      <td>05/13/2019</td>\n",
              "      <td>1608.605135</td>\n",
              "      <td>1637.661221</td>\n",
              "      <td>18.232857</td>\n",
              "    </tr>\n",
              "    <tr>\n",
              "      <th>1</th>\n",
              "      <td>True</td>\n",
              "      <td>cigar</td>\n",
              "      <td>111</td>\n",
              "      <td>222</td>\n",
              "      <td>India</td>\n",
              "      <td>104</td>\n",
              "      <td>3081.350806</td>\n",
              "      <td>sea</td>\n",
              "      <td>america</td>\n",
              "      <td>04/22/2019</td>\n",
              "      <td>05/24/2019</td>\n",
              "      <td>831.719301</td>\n",
              "      <td>848.273419</td>\n",
              "      <td>32.436029</td>\n",
              "    </tr>\n",
              "    <tr>\n",
              "      <th>2</th>\n",
              "      <td>True</td>\n",
              "      <td>cigar</td>\n",
              "      <td>111</td>\n",
              "      <td>222</td>\n",
              "      <td>India</td>\n",
              "      <td>130</td>\n",
              "      <td>4414.125741</td>\n",
              "      <td>sea</td>\n",
              "      <td>europe</td>\n",
              "      <td>04/29/2019</td>\n",
              "      <td>05/16/2019</td>\n",
              "      <td>1527.704165</td>\n",
              "      <td>1582.063911</td>\n",
              "      <td>16.996206</td>\n",
              "    </tr>\n",
              "    <tr>\n",
              "      <th>3</th>\n",
              "      <td>True</td>\n",
              "      <td>cigar</td>\n",
              "      <td>111</td>\n",
              "      <td>222</td>\n",
              "      <td>India</td>\n",
              "      <td>143</td>\n",
              "      <td>2533.535991</td>\n",
              "      <td>sea</td>\n",
              "      <td>panama</td>\n",
              "      <td>05/05/2019</td>\n",
              "      <td>05/25/2019</td>\n",
              "      <td>1138.680563</td>\n",
              "      <td>1179.993817</td>\n",
              "      <td>19.965886</td>\n",
              "    </tr>\n",
              "    <tr>\n",
              "      <th>4</th>\n",
              "      <td>True</td>\n",
              "      <td>cigar</td>\n",
              "      <td>111</td>\n",
              "      <td>222</td>\n",
              "      <td>China</td>\n",
              "      <td>141</td>\n",
              "      <td>4396.397887</td>\n",
              "      <td>sea</td>\n",
              "      <td>asia</td>\n",
              "      <td>05/14/2019</td>\n",
              "      <td>06/05/2019</td>\n",
              "      <td>761.744581</td>\n",
              "      <td>781.735080</td>\n",
              "      <td>22.160034</td>\n",
              "    </tr>\n",
              "  </tbody>\n",
              "</table>\n",
              "</div>"
            ],
            "text/plain": [
              "   valid_import   item  ...  actual_weight  days_in_transit\n",
              "0          True  cigar  ...    1637.661221        18.232857\n",
              "1          True  cigar  ...     848.273419        32.436029\n",
              "2          True  cigar  ...    1582.063911        16.996206\n",
              "3          True  cigar  ...    1179.993817        19.965886\n",
              "4          True  cigar  ...     781.735080        22.160034\n",
              "\n",
              "[5 rows x 14 columns]"
            ]
          },
          "metadata": {
            "tags": []
          },
          "execution_count": 4
        }
      ]
    },
    {
      "cell_type": "code",
      "metadata": {
        "id": "OL2cLcK_mPBO",
        "colab_type": "code",
        "colab": {
          "base_uri": "https://localhost:8080/",
          "height": 390
        },
        "outputId": "c4207838-8176-4456-edd0-3a909a0a745e"
      },
      "source": [
        "#showing the characteristics of the dataset\n",
        "dataframe_envio_portos.info() #checking the types of variables and whether or not there are null values"
      ],
      "execution_count": 5,
      "outputs": [
        {
          "output_type": "stream",
          "text": [
            "<class 'pandas.core.frame.DataFrame'>\n",
            "RangeIndex: 120 entries, 0 to 119\n",
            "Data columns (total 14 columns):\n",
            " #   Column             Non-Null Count  Dtype  \n",
            "---  ------             --------------  -----  \n",
            " 0   valid_import       120 non-null    bool   \n",
            " 1   item               120 non-null    object \n",
            " 2   importer_id        120 non-null    int64  \n",
            " 3   exporter_id        120 non-null    int64  \n",
            " 4   country_of_origin  120 non-null    object \n",
            " 5   declared_quantity  120 non-null    int64  \n",
            " 6   declared_cost      120 non-null    float64\n",
            " 7   mode_of_transport  120 non-null    object \n",
            " 8   route              120 non-null    object \n",
            " 9   date_of_departure  120 non-null    object \n",
            " 10  date_of_arrival    120 non-null    object \n",
            " 11  declared_weight    120 non-null    float64\n",
            " 12  actual_weight      120 non-null    float64\n",
            " 13  days_in_transit    120 non-null    float64\n",
            "dtypes: bool(1), float64(4), int64(3), object(6)\n",
            "memory usage: 12.4+ KB\n"
          ],
          "name": "stdout"
        }
      ]
    },
    {
      "cell_type": "code",
      "metadata": {
        "id": "6E-2Hd7tyBXA",
        "colab_type": "code",
        "colab": {
          "base_uri": "https://localhost:8080/",
          "height": 34
        },
        "outputId": "029bfa7f-b977-45c1-d417-3f6442418468"
      },
      "source": [
        "dataframe_envio_portos.shape"
      ],
      "execution_count": 6,
      "outputs": [
        {
          "output_type": "execute_result",
          "data": {
            "text/plain": [
              "(120, 14)"
            ]
          },
          "metadata": {
            "tags": []
          },
          "execution_count": 6
        }
      ]
    },
    {
      "cell_type": "code",
      "metadata": {
        "id": "EK9PIlANo1NA",
        "colab_type": "code",
        "colab": {
          "base_uri": "https://localhost:8080/",
          "height": 287
        },
        "outputId": "6dffeb88-0ebb-4834-dd23-1d1da7d95314"
      },
      "source": [
        "#finding statistics description for variables\n",
        "dataframe_envio_portos.describe()"
      ],
      "execution_count": 7,
      "outputs": [
        {
          "output_type": "execute_result",
          "data": {
            "text/html": [
              "<div>\n",
              "<style scoped>\n",
              "    .dataframe tbody tr th:only-of-type {\n",
              "        vertical-align: middle;\n",
              "    }\n",
              "\n",
              "    .dataframe tbody tr th {\n",
              "        vertical-align: top;\n",
              "    }\n",
              "\n",
              "    .dataframe thead th {\n",
              "        text-align: right;\n",
              "    }\n",
              "</style>\n",
              "<table border=\"1\" class=\"dataframe\">\n",
              "  <thead>\n",
              "    <tr style=\"text-align: right;\">\n",
              "      <th></th>\n",
              "      <th>importer_id</th>\n",
              "      <th>exporter_id</th>\n",
              "      <th>declared_quantity</th>\n",
              "      <th>declared_cost</th>\n",
              "      <th>declared_weight</th>\n",
              "      <th>actual_weight</th>\n",
              "      <th>days_in_transit</th>\n",
              "    </tr>\n",
              "  </thead>\n",
              "  <tbody>\n",
              "    <tr>\n",
              "      <th>count</th>\n",
              "      <td>120.0</td>\n",
              "      <td>120.0</td>\n",
              "      <td>120.000000</td>\n",
              "      <td>120.000000</td>\n",
              "      <td>120.000000</td>\n",
              "      <td>120.000000</td>\n",
              "      <td>120.000000</td>\n",
              "    </tr>\n",
              "    <tr>\n",
              "      <th>mean</th>\n",
              "      <td>111.0</td>\n",
              "      <td>222.0</td>\n",
              "      <td>127.458333</td>\n",
              "      <td>6743.649881</td>\n",
              "      <td>1264.702934</td>\n",
              "      <td>1306.429806</td>\n",
              "      <td>35.424705</td>\n",
              "    </tr>\n",
              "    <tr>\n",
              "      <th>std</th>\n",
              "      <td>0.0</td>\n",
              "      <td>0.0</td>\n",
              "      <td>14.641311</td>\n",
              "      <td>2991.797050</td>\n",
              "      <td>633.149971</td>\n",
              "      <td>656.911704</td>\n",
              "      <td>26.571591</td>\n",
              "    </tr>\n",
              "    <tr>\n",
              "      <th>min</th>\n",
              "      <td>111.0</td>\n",
              "      <td>222.0</td>\n",
              "      <td>100.000000</td>\n",
              "      <td>1441.012419</td>\n",
              "      <td>18.459509</td>\n",
              "      <td>19.275241</td>\n",
              "      <td>12.410325</td>\n",
              "    </tr>\n",
              "    <tr>\n",
              "      <th>25%</th>\n",
              "      <td>111.0</td>\n",
              "      <td>222.0</td>\n",
              "      <td>115.750000</td>\n",
              "      <td>4442.903914</td>\n",
              "      <td>820.314400</td>\n",
              "      <td>841.763738</td>\n",
              "      <td>18.225625</td>\n",
              "    </tr>\n",
              "    <tr>\n",
              "      <th>50%</th>\n",
              "      <td>111.0</td>\n",
              "      <td>222.0</td>\n",
              "      <td>131.500000</td>\n",
              "      <td>6010.218745</td>\n",
              "      <td>1255.597743</td>\n",
              "      <td>1305.716419</td>\n",
              "      <td>27.044293</td>\n",
              "    </tr>\n",
              "    <tr>\n",
              "      <th>75%</th>\n",
              "      <td>111.0</td>\n",
              "      <td>222.0</td>\n",
              "      <td>139.000000</td>\n",
              "      <td>8887.095370</td>\n",
              "      <td>1711.314045</td>\n",
              "      <td>1763.681083</td>\n",
              "      <td>44.356374</td>\n",
              "    </tr>\n",
              "    <tr>\n",
              "      <th>max</th>\n",
              "      <td>111.0</td>\n",
              "      <td>222.0</td>\n",
              "      <td>149.000000</td>\n",
              "      <td>14281.325362</td>\n",
              "      <td>2806.338955</td>\n",
              "      <td>2918.681683</td>\n",
              "      <td>147.787560</td>\n",
              "    </tr>\n",
              "  </tbody>\n",
              "</table>\n",
              "</div>"
            ],
            "text/plain": [
              "       importer_id  exporter_id  ...  actual_weight  days_in_transit\n",
              "count        120.0        120.0  ...     120.000000       120.000000\n",
              "mean         111.0        222.0  ...    1306.429806        35.424705\n",
              "std            0.0          0.0  ...     656.911704        26.571591\n",
              "min          111.0        222.0  ...      19.275241        12.410325\n",
              "25%          111.0        222.0  ...     841.763738        18.225625\n",
              "50%          111.0        222.0  ...    1305.716419        27.044293\n",
              "75%          111.0        222.0  ...    1763.681083        44.356374\n",
              "max          111.0        222.0  ...    2918.681683       147.787560\n",
              "\n",
              "[8 rows x 7 columns]"
            ]
          },
          "metadata": {
            "tags": []
          },
          "execution_count": 7
        }
      ]
    },
    {
      "cell_type": "code",
      "metadata": {
        "id": "dcWZdA5EwlCu",
        "colab_type": "code",
        "colab": {
          "base_uri": "https://localhost:8080/",
          "height": 283
        },
        "outputId": "e4acc85b-a375-4f22-9c84-981173cef6af"
      },
      "source": [
        "#checking for outliers\n",
        "dataframe_envio_portos[['declared_quantity','days_in_transit']].boxplot()"
      ],
      "execution_count": 8,
      "outputs": [
        {
          "output_type": "execute_result",
          "data": {
            "text/plain": [
              "<matplotlib.axes._subplots.AxesSubplot at 0x7f6fae116080>"
            ]
          },
          "metadata": {
            "tags": []
          },
          "execution_count": 8
        },
        {
          "output_type": "display_data",
          "data": {
            "image/png": "[encoded data removed]",
            "text/plain": [
              "<Figure size 432x288 with 1 Axes>"
            ]
          },
          "metadata": {
            "tags": [],
            "needs_background": "light"
          }
        }
      ]
    },
    {
      "cell_type": "code",
      "metadata": {
        "id": "IECULZZuxMC_",
        "colab_type": "code",
        "colab": {}
      },
      "source": [
        "#performing the regression analysis\n",
        "x=dataframe_envio_portos['declared_weight'].values  #predictor \n",
        "Y=dataframe_envio_portos['actual_weight'].values #outcome"
      ],
      "execution_count": 11,
      "outputs": []
    },
    {
      "cell_type": "code",
      "metadata": {
        "id": "pSoJQBOMy7F8",
        "colab_type": "code",
        "colab": {}
      },
      "source": [
        "#importing the univariate linear regression model\n",
        "from sklearn.linear_model import LinearRegression"
      ],
      "execution_count": 12,
      "outputs": []
    },
    {
      "cell_type": "code",
      "metadata": {
        "id": "AWHHadB4x9_k",
        "colab_type": "code",
        "colab": {}
      },
      "source": [
        "#Performs the construction of the regression model\n",
        "reg= LinearRegression()\n",
        "x_Reshaped=x.reshape((-1, 1)) #puts data in 2D format\n",
        "regressao= reg.fit (x_Reshaped,Y) #finds the coefficients (performs the regression)"
      ],
      "execution_count": 13,
      "outputs": []
    },
    {
      "cell_type": "code",
      "metadata": {
        "id": "nvBdinlry6VR",
        "colab_type": "code",
        "colab": {}
      },
      "source": [
        "#perfomrs the forecast\n",
        "previsao=reg.predict(x_Reshaped)"
      ],
      "execution_count": 15,
      "outputs": []
    },
    {
      "cell_type": "code",
      "metadata": {
        "id": "kYdLgLmOzhBr",
        "colab_type": "code",
        "colab": {}
      },
      "source": [
        "#model analysis\n",
        "from sklearn.metrics import r2_score #method for calculating R2 (coefficient of determination)"
      ],
      "execution_count": 14,
      "outputs": []
    },
    {
      "cell_type": "code",
      "metadata": {
        "id": "2JBYpbs5za47",
        "colab_type": "code",
        "colab": {
          "base_uri": "https://localhost:8080/",
          "height": 52
        },
        "outputId": "a5b0aef6-a8e5-4229-8cf9-f02400131181"
      },
      "source": [
        "#found parameters\n",
        "print('Y = {}X {}'.format(reg.coef_,reg.intercept_))\n",
        "\n",
        "R_2 = r2_score(Y, previsao)  #performs the R2 calculation\n",
        "\n",
        "print(\"Coeficiente de Determinação (R2):\", R_2)\n"
      ],
      "execution_count": 16,
      "outputs": [
        {
          "output_type": "stream",
          "text": [
            "Y = [1.03718115]X -5.296233030439225\n",
            "Coeficiente de Determinação (R2): 0.9993288165644932\n"
          ],
          "name": "stdout"
        }
      ]
    },
    {
      "cell_type": "code",
      "metadata": {
        "id": "Dl1idrd7zuJM",
        "colab_type": "code",
        "colab": {
          "base_uri": "https://localhost:8080/",
          "height": 684
        },
        "outputId": "75918336-9501-43c9-b06c-6a4358d85b7c"
      },
      "source": [
        "#performs the plot of data\n",
        "plt.figure(figsize=(10, 8), dpi=100)\n",
        "plt.scatter(x, Y,  color='b') #plots the scatter plot\n",
        "plt.plot(x, previsao, color='r', linewidth=2) # performs the \"line\" plot\n",
        "plt.xlabel(\"Declared Weight\")\n",
        "plt.ylabel(\"Actual Weight\")\n",
        "plt.show()"
      ],
      "execution_count": 19,
      "outputs": [
        {
          "output_type": "display_data",
          "data": {
            "image/png": "[encoded data removed]",
            "text/plain": [
              "<Figure size 1000x800 with 1 Axes>"
            ]
          },
          "metadata": {
            "tags": [],
            "needs_background": "light"
          }
        }
      ]
    }
  ]
}